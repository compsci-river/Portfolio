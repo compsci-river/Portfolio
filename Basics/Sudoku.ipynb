{
  "cells": [
    {
      "cell_type": "code",
      "execution_count": 1,
      "metadata": {
        "id": "OJrEhr6YJWsk"
      },
      "outputs": [],
      "source": [
        "class Sudoku:\n",
        "    def __init__(s,check,temp):\n",
        "        s.board = [0 for i in range(81)]\n",
        "        if check:\n",
        "            s.board = temp\n",
        "        s.known = [True if x != 0 else False for x in s.board]\n",
        "        s.history = []\n",
        "\n",
        "    def run(s):\n",
        "        s.solver(0)\n",
        "\n",
        "    def draw(s):\n",
        "        for i in range(9):\n",
        "            for j in range(9):\n",
        "                print(s.board[9*i+j],end='  ')\n",
        "            print()\n",
        "        print()\n",
        "\n",
        "    def checkRow(s,y):\n",
        "        values = []\n",
        "        for i in range(9):\n",
        "            val = s.board[9*y+i]\n",
        "            if val != 0:\n",
        "                values.append(val)\n",
        "        return values\n",
        "\n",
        "    def checkCol(s,x,y):\n",
        "        values = s.checkRow(y)\n",
        "        for i in range(9):\n",
        "            val = s.board[9*i+x]\n",
        "            if val != 0 and val not in values:\n",
        "                values.append(val)\n",
        "        return values\n",
        "\n",
        "    def checkSqu(s,x,y):\n",
        "        sX = x // 3\n",
        "        sY = y // 3\n",
        "        values = s.checkCol(x,y)\n",
        "        for i in range(3):\n",
        "            for j in range(3):\n",
        "                val = s.board[3*sY*9+3*sX+9*j+i]\n",
        "                if val != 0 and val not in values:\n",
        "                    values.append(val)\n",
        "        return [i for i in range(1,10) if i not in values]\n",
        "\n",
        "    def solver(s,i):\n",
        "        s.history.append([x for x in s.board])\n",
        "        if i >= 81:\n",
        "            #Win\n",
        "            s.draw()\n",
        "            return True\n",
        "        else:\n",
        "            if s.board[i] != 0:\n",
        "                return s.solver(i+1)\n",
        "            else:\n",
        "                #s.draw()\n",
        "                temp = s.checkSqu(i%9,i//9)\n",
        "                for x in temp:\n",
        "                    s.board[i] = x\n",
        "                    if s.solver(i+1):\n",
        "                        return True\n",
        "                s.board[i] = 0\n",
        "                return False"
      ]
    },
    {
      "cell_type": "code",
      "execution_count": 3,
      "metadata": {
        "colab": {
          "base_uri": "https://localhost:8080/"
        },
        "id": "1n-tgKvNo7pq",
        "outputId": "503620cd-143c-462d-b5e3-96c579192d15"
      },
      "outputs": [
        {
          "output_type": "stream",
          "name": "stdout",
          "text": [
            "4  1  2  7  5  6  9  3  8  \n",
            "9  8  6  4  2  3  1  5  7  \n",
            "3  5  7  1  8  9  2  6  4  \n",
            "7  9  1  6  4  5  8  2  3  \n",
            "8  2  4  3  9  7  5  1  6  \n",
            "6  3  5  8  1  2  7  4  9  \n",
            "5  6  3  9  7  1  4  8  2  \n",
            "2  7  8  5  3  4  6  9  1  \n",
            "1  4  9  2  6  8  3  7  5  \n",
            "\n"
          ]
        }
      ],
      "source": [
        "temp = [0,1,0,0,0,0,0,3,0,\n",
        "        9,0,0,0,2,0,1,0,0,\n",
        "        0,0,0,1,0,0,0,6,4,\n",
        "        7,0,0,0,0,0,0,0,0,\n",
        "        8,0,0,3,9,0,5,0,6,\n",
        "        0,0,0,0,0,0,0,4,9,\n",
        "        5,0,0,0,7,1,0,0,0,\n",
        "        0,0,8,0,0,0,0,9,1,\n",
        "        0,4,0,2,6,0,0,0,5]\n",
        "s = Sudoku(True,temp)\n",
        "s.run()"
      ]
    },
    {
      "cell_type": "code",
      "execution_count": 4,
      "metadata": {
        "id": "c7IMlTEPqKCG"
      },
      "outputs": [],
      "source": [
        "import matplotlib.pyplot as plt\n",
        "import matplotlib.animation as animation"
      ]
    },
    {
      "cell_type": "code",
      "execution_count": 5,
      "metadata": {
        "colab": {
          "base_uri": "https://localhost:8080/",
          "height": 477
        },
        "id": "FMI7yCATqKt7",
        "outputId": "6312b1eb-1acc-4250-af1e-aa992faa54fa"
      },
      "outputs": [
        {
          "output_type": "stream",
          "name": "stderr",
          "text": [
            "<ipython-input-5-ff73f3e6eba0>:25: UserWarning: frames=<list_iterator object at 0x783cf9227430> which we can infer the length of, did not pass an explicit *save_count* and passed cache_frame_data=True.  To avoid a possibly unbounded cache, frame data caching has been disabled. To suppress this warning either pass `cache_frame_data=False` or `save_count=MAX_FRAMES`.\n",
            "  anim = animation.FuncAnimation(fig,update,interval=1,blit=True,frames=iter(s.history))\n"
          ]
        },
        {
          "output_type": "display_data",
          "data": {
            "text/plain": [
              "<Figure size 500x500 with 1 Axes>"
            ],
            "image/png": "[encoded data removed]"
          },
          "metadata": {}
        }
      ],
      "source": [
        "fig = plt.figure(figsize=(5, 5))\n",
        "ax = fig.add_subplot(1, 1, 1)\n",
        "plt.tick_params(left = False, right = False, labelleft = False, labelbottom = False, bottom = False)\n",
        "linesX = [ax.plot([0,1],[i/9,i/9],transform=ax.transAxes,linewidth=3,color='black') if i%3 == 0 else ax.plot([0,1],[i/9,i/9],transform=ax.transAxes,linewidth=1,color='black') for i in range(1,9)]\n",
        "linesY = [ax.plot([i/9,i/9],[0,1],transform=ax.transAxes,linewidth=3,color='black') if i%3 == 0 else ax.plot([i/9,i/9],[0,1],transform=ax.transAxes,linewidth=1,color='black') for i in range(1,9)]\n",
        "values = [ax.text(((i % 9) + 0.5) / 9,1 - (((i // 9) + 0.5) / 9),'0',transform=ax.transAxes,horizontalalignment='center',verticalalignment='center',fontsize=10) for i in range(81)]\n",
        "\n",
        "def update(hist):\n",
        "    #print(hist)\n",
        "    for i in range(len(hist)):\n",
        "        x,y = i % 9,i // 9\n",
        "        if hist[i] == 0:\n",
        "            values[i].set_visible(False)\n",
        "        else:\n",
        "            values[i].set_text(hist[i])\n",
        "            values[i].set_visible(True)\n",
        "            if s.known[i]:\n",
        "                #Write in black\n",
        "                values[i].set_color('black')\n",
        "            else:\n",
        "                #Write in red\n",
        "                values[i].set_color('red')\n",
        "    return values\n",
        "\n",
        "anim = animation.FuncAnimation(fig,update,interval=1,blit=True,frames=iter(s.history))"
      ]
    }
  ],
  "metadata": {
    "colab": {
      "provenance": []
    },
    "kernelspec": {
      "display_name": "Python 3",
      "name": "python3"
    },
    "language_info": {
      "name": "python"
    }
  },
  "nbformat": 4,
  "nbformat_minor": 0
}