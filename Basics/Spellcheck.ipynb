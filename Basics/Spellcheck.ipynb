{
  "nbformat": 4,
  "nbformat_minor": 0,
  "metadata": {
    "colab": {
      "provenance": []
    },
    "kernelspec": {
      "name": "python3",
      "display_name": "Python 3"
    },
    "language_info": {
      "name": "python"
    }
  },
  "cells": [
    {
      "cell_type": "markdown",
      "source": [
        "Spellcheck is a program I originally wrote in C++ for a data structures class. It was the intro assignment so the teacher could get some insight into our skill levels and background. The expectation was something basic like a list or a binary tree, my solution was still fairly basic but in my opinion a bit more elegant. Spellcheck creates a tree based on the spelling of the words instead of the words themselves, a node contains a letter, and then each node has an array with 27 positions signifying each letter of the alphabet as well as a stop value, the array is initialized full of null values, and then adjusted when loading the dictionary of words.\n",
        "\n",
        "The benefits of my solution are that the search time is based on the length of the word, not the size of the dictionary, and it could easily be adapted for a more real word problem where letters are input one at a time. The only real negative I see is the structure is large, and takes more memory than a simpler structure.\n"
      ],
      "metadata": {
        "id": "qVJioFxmWzL6"
      }
    },
    {
      "cell_type": "code",
      "source": [
        "from google.colab import drive\n",
        "drive.mount('/drive')\n",
        "path = '/drive/My Drive/Employment/Portfolio/Basics/Data/'"
      ],
      "metadata": {
        "colab": {
          "base_uri": "https://localhost:8080/"
        },
        "id": "p_ImrWCajmpF",
        "outputId": "00adc9e0-9760-4051-e19f-1210d79023b5"
      },
      "execution_count": null,
      "outputs": [
        {
          "output_type": "stream",
          "name": "stdout",
          "text": [
            "Mounted at /drive\n"
          ]
        }
      ]
    },
    {
      "cell_type": "code",
      "execution_count": null,
      "metadata": {
        "id": "p1NzPPDgJbgu"
      },
      "outputs": [],
      "source": [
        "class Node:\n",
        "    def __init__(s):\n",
        "        s.n = [None for i in range(27)]"
      ]
    },
    {
      "cell_type": "code",
      "source": [
        "class Spellcheck:\n",
        "    def __init__(s,fName):\n",
        "        s.firstLetter = Node()\n",
        "        s.load(fName)\n",
        "        s.run()\n",
        "\n",
        "    def load(s,fName):\n",
        "        with open(path+fName) as f:\n",
        "            lines = f.readlines()\n",
        "            for word in lines:\n",
        "                chars = [ord(c)-97 for c in word.lower() if ord(c) >= 97]+[26]\n",
        "                #print(chars)\n",
        "                s.addChars(s.firstLetter,chars)\n",
        "\n",
        "    def addChars(s,node,chars):\n",
        "        if len(chars) <= 0:\n",
        "            return True\n",
        "        else:\n",
        "            val = chars[0]\n",
        "            chars.pop(0)\n",
        "            if node.n[val] == None:\n",
        "                node.n[val] = Node()\n",
        "            return s.addChars(node.n[val],chars)\n",
        "        return False\n",
        "\n",
        "    def testChars(s,node,chars):\n",
        "        if len(chars) <= 0:\n",
        "            return True\n",
        "        else:\n",
        "            val = chars[0]\n",
        "            chars.pop(0)\n",
        "            if node.n[val] != None:\n",
        "                return s.testChars(node.n[val],chars)\n",
        "            else:\n",
        "                return False\n",
        "\n",
        "    def run(s):\n",
        "        running = True\n",
        "        while running:\n",
        "            word = input(\"Enter a word to spellcheck, or type 'Q' to quit.\\t\")\n",
        "            print()\n",
        "            if word == 'Q':\n",
        "                print('Quitting...')\n",
        "                running = False\n",
        "            else:\n",
        "                chars = [ord(c)-97 for c in word.lower() if ord(c) >= 97]+[26]\n",
        "                if s.testChars(s.firstLetter,chars):\n",
        "                    print(word+' is a word.')\n",
        "                else:\n",
        "                    print(word+' is not a word.')\n",
        "                print()\n",
        "        print('Thanks for your time.')"
      ],
      "metadata": {
        "id": "N06i-yexjnTR"
      },
      "execution_count": null,
      "outputs": []
    },
    {
      "cell_type": "code",
      "source": [
        "s = Spellcheck('Words.txt')"
      ],
      "metadata": {
        "colab": {
          "base_uri": "https://localhost:8080/"
        },
        "id": "Ix4EUF7voq59",
        "outputId": "adc1afd8-3ce0-4703-a906-3139e6efe7c1"
      },
      "execution_count": null,
      "outputs": [
        {
          "output_type": "stream",
          "name": "stdout",
          "text": [
            "Enter a word to spellcheck, or type 'Q' to quit.\thello\n",
            "\n",
            "hello is a word.\n",
            "Enter a word to spellcheck, or type 'Q' to quit.\ttime\n",
            "\n",
            "time is a word.\n",
            "Enter a word to spellcheck, or type 'Q' to quit.\ttome\n",
            "\n",
            "tome is a word.\n",
            "Enter a word to spellcheck, or type 'Q' to quit.\ttomp\n",
            "\n",
            "tomp is not a word.\n",
            "Enter a word to spellcheck, or type 'Q' to quit.\tsta\n",
            "\n",
            "sta is a word.\n",
            "Enter a word to spellcheck, or type 'Q' to quit.\tsto\n",
            "\n",
            "sto is not a word.\n",
            "Enter a word to spellcheck, or type 'Q' to quit.\tstop\n",
            "\n",
            "stop is a word.\n",
            "Enter a word to spellcheck, or type 'Q' to quit.\tQ\n",
            "\n",
            "Quitting...\n",
            "Thanks for your time.\n"
          ]
        }
      ]
    }
  ]
}