{
  "cells": [
    {
      "cell_type": "markdown",
      "source": [
        "Same stuff as in part one to set up the environment and grab the data."
      ],
      "metadata": {
        "id": "QyKD73J7QWqw"
      }
    },
    {
      "cell_type": "code",
      "source": [
        "# Python ≥3.5 is required\n",
        "import sys\n",
        "assert sys.version_info >= (3, 5)\n",
        "\n",
        "# Is this notebook running on Colab or Kaggle?\n",
        "IS_COLAB = \"google.colab\" in sys.modules\n",
        "IS_KAGGLE = \"kaggle_secrets\" in sys.modules\n",
        "\n",
        "# Scikit-Learn ≥0.20 is required\n",
        "import sklearn\n",
        "assert sklearn.__version__ >= \"0.20\"\n",
        "\n",
        "# Common imports\n",
        "import numpy as np\n",
        "import os\n",
        "\n",
        "# to make this notebook's output stable across runs\n",
        "np.random.seed(42)"
      ],
      "metadata": {
        "id": "ARbN3SbOBTz8"
      },
      "execution_count": null,
      "outputs": []
    },
    {
      "cell_type": "code",
      "source": [
        "from sklearn.datasets import fetch_openml\n",
        "mnist = fetch_openml('mnist_784', version=1, as_frame=False)\n",
        "mnist.keys()"
      ],
      "metadata": {
        "colab": {
          "base_uri": "https://localhost:8080/"
        },
        "id": "YjZw-NwKArnK",
        "outputId": "5c29d649-e0de-4545-cc4e-b4cef93edf57"
      },
      "execution_count": null,
      "outputs": [
        {
          "output_type": "execute_result",
          "data": {
            "text/plain": [
              "dict_keys(['data', 'target', 'frame', 'categories', 'feature_names', 'target_names', 'DESCR', 'details', 'url'])"
            ]
          },
          "metadata": {},
          "execution_count": 2
        }
      ]
    },
    {
      "cell_type": "code",
      "source": [
        "%matplotlib inline\n",
        "import matplotlib as mpl\n",
        "import matplotlib.pyplot as plt\n",
        "\n",
        "def plot_digit(data):\n",
        "    image = data.reshape(28, 28)\n",
        "    plt.imshow(image, cmap = mpl.cm.binary,\n",
        "               interpolation=\"nearest\")\n",
        "    plt.axis(\"off\")\n",
        "\n",
        "# EXTRA\n",
        "def plot_digits(instances, images_per_row=10, **options):\n",
        "    size = 28\n",
        "    images_per_row = min(len(instances), images_per_row)\n",
        "    # This is equivalent to n_rows = ceil(len(instances) / images_per_row):\n",
        "    n_rows = (len(instances) - 1) // images_per_row + 1\n",
        "\n",
        "    # Append empty images to fill the end of the grid, if needed:\n",
        "    n_empty = n_rows * images_per_row - len(instances)\n",
        "    padded_instances = np.concatenate([instances, np.zeros((n_empty, size * size))], axis=0)\n",
        "\n",
        "    # Reshape the array so it's organized as a grid containing 28×28 images:\n",
        "    image_grid = padded_instances.reshape((n_rows, images_per_row, size, size))\n",
        "\n",
        "    # Combine axes 0 and 2 (vertical image grid axis, and vertical image axis),\n",
        "    # and axes 1 and 3 (horizontal axes). We first need to move the axes that we\n",
        "    # want to combine next to each other, using transpose(), and only then we\n",
        "    # can reshape:\n",
        "    big_image = image_grid.transpose(0, 2, 1, 3).reshape(n_rows * size,\n",
        "                                                         images_per_row * size)\n",
        "    # Now that we have a big image, we just need to show it:\n",
        "    plt.imshow(big_image, cmap = mpl.cm.binary, **options)\n",
        "    plt.axis(\"off\")"
      ],
      "metadata": {
        "id": "vPJ3k73oCHFi"
      },
      "execution_count": null,
      "outputs": []
    },
    {
      "cell_type": "code",
      "source": [
        "X, y = mnist[\"data\"], mnist[\"target\"]\n",
        "y = y.astype(np.uint8)"
      ],
      "metadata": {
        "id": "Wd5QcBp_yE7M"
      },
      "execution_count": null,
      "outputs": []
    },
    {
      "cell_type": "markdown",
      "source": [
        "Function to create the shifted images, I am guessing there is a smarter way to do this that requires less lines of code, but I was having trouble finding anything. But it runs through each image and then uses a shift function for each direction and then appends it to the list, I initially struggled because I forgot about having to transfer it back and forth between list and numpy array."
      ],
      "metadata": {
        "id": "7VT0UIECQe6X"
      }
    },
    {
      "cell_type": "code",
      "source": [
        "from scipy.ndimage.interpolation import shift\n",
        "\n",
        "def ShiftExpand(X_array, y_array):\n",
        "    X_expanded = [image for image in X_array]\n",
        "    y_expanded = [label for label in y_array]\n",
        "\n",
        "    for image, label in zip(X_array, y_array):\n",
        "        X_expanded.append(shift(image.reshape(28, 28), [1,0], cval=0).reshape(784))\n",
        "        y_expanded.append(label)\n",
        "        X_expanded.append(shift(image.reshape(28, 28), [-1,0], cval=0).reshape(784))\n",
        "        y_expanded.append(label)\n",
        "        X_expanded.append(shift(image.reshape(28, 28), [0,1], cval=0).reshape(784))\n",
        "        y_expanded.append(label)\n",
        "        X_expanded.append(shift(image.reshape(28, 28), [0,-1], cval=0).reshape(784))\n",
        "        y_expanded.append(label)\n",
        "\n",
        "    X_expanded, y_expanded = np.array(X_expanded), np.array(y_expanded)\n",
        "\n",
        "    return X_expanded, y_expanded"
      ],
      "metadata": {
        "id": "vLeRW1oCyiEq"
      },
      "execution_count": null,
      "outputs": []
    },
    {
      "cell_type": "markdown",
      "source": [
        "Testing the shift and expand function to see what the results look like"
      ],
      "metadata": {
        "id": "NVGXT-RTzbO6"
      }
    },
    {
      "cell_type": "code",
      "source": [
        "X_temp, y_temp = np.array([X[0],X[1]]), np.array([y[0],y[1]])\n",
        "#X_temp.shape\n",
        "X_temp, y_temp = ShiftExpand(X_temp, y_temp)\n",
        "\n",
        "\n",
        "plot_digits(X_temp, images_per_row=10)\n",
        "plt.show()"
      ],
      "metadata": {
        "colab": {
          "base_uri": "https://localhost:8080/",
          "height": 64
        },
        "id": "72fIUt6kypsZ",
        "outputId": "f3f5a277-a4e8-4309-9d47-ded3cf20a616"
      },
      "execution_count": null,
      "outputs": [
        {
          "output_type": "display_data",
          "data": {
            "text/plain": [
              "<Figure size 432x288 with 1 Axes>"
            ],
            "image/png": "[encoded data removed]"
          },
          "metadata": {
            "needs_background": "light"
          }
        }
      ]
    },
    {
      "cell_type": "markdown",
      "source": [
        "splitting the train and test data, and then using the shift and expand function on the train data"
      ],
      "metadata": {
        "id": "cixIb1r1zl9P"
      }
    },
    {
      "cell_type": "code",
      "source": [
        "from sklearn.model_selection import train_test_split\n",
        "X_train, X_test, y_train, y_test = train_test_split(X, y, test_size=1000, random_state=42)\n",
        "\n",
        "X_train, y_train = ShiftExpand(X_train, y_train)\n",
        "\n",
        "plot_digits(X_train[-20:], images_per_row=10)\n",
        "plt.show()"
      ],
      "metadata": {
        "colab": {
          "base_uri": "https://localhost:8080/",
          "height": 98
        },
        "id": "T3RWOc6-yzXv",
        "outputId": "c891443b-98be-434e-ae24-d3e74844111c"
      },
      "execution_count": null,
      "outputs": [
        {
          "output_type": "display_data",
          "data": {
            "text/plain": [
              "<Figure size 432x288 with 1 Axes>"
            ],
            "image/png": "[encoded data removed]"
          },
          "metadata": {
            "needs_background": "light"
          }
        }
      ]
    },
    {
      "cell_type": "markdown",
      "source": [
        "Creating the model with the train data using the optimum hyperparameters that I determined in part one"
      ],
      "metadata": {
        "id": "bOs1h-06z2j5"
      }
    },
    {
      "cell_type": "code",
      "source": [
        "from sklearn.neighbors import KNeighborsClassifier\n",
        "FinalModel = KNeighborsClassifier(n_neighbors=4, weights='distance')\n",
        "FinalModel.fit(X_train, y_train)\n",
        "\n",
        "y_prediction = FinalModel.predict(X_test)\n",
        "\n",
        "from sklearn.metrics import accuracy_score\n",
        "accuracy_score(y_test, y_prediction)"
      ],
      "metadata": {
        "colab": {
          "base_uri": "https://localhost:8080/"
        },
        "id": "YHYEKrL8y-A2",
        "outputId": "f6cb0d03-40ef-4b2f-9d2d-ac2c6233cf96"
      },
      "execution_count": null,
      "outputs": [
        {
          "output_type": "execute_result",
          "data": {
            "text/plain": [
              "0.991"
            ]
          },
          "metadata": {},
          "execution_count": 16
        }
      ]
    },
    {
      "cell_type": "markdown",
      "source": [
        "(I don't know what is happening anymore, the last five times I ran this I got around 63%, but now when commenting it the accuracy is equal with the result when randomizing the order whcih makes sense to me, but I haven't made any changeds to the code and it didn't work before so I don't know what was going on.)\n",
        "\n",
        "For some reason this is terrible, worse than before augmenting the data, still not sure why. I ended up checking the example from the author and the only difference I could find was the randomization of order so I emplemented that"
      ],
      "metadata": {
        "id": "Epd3QmKW0ECh"
      }
    },
    {
      "cell_type": "code",
      "source": [
        "def ShiftExpandNShuffle(X_array, y_array):\n",
        "    X_expanded = [image for image in X_array]\n",
        "    y_expanded = [label for label in y_array]\n",
        "\n",
        "    for image, label in zip(X_array, y_array):\n",
        "        X_expanded.append(shift(image.reshape(28, 28), [1,0], cval=0).reshape(784))\n",
        "        y_expanded.append(label)\n",
        "        X_expanded.append(shift(image.reshape(28, 28), [-1,0], cval=0).reshape(784))\n",
        "        y_expanded.append(label)\n",
        "        X_expanded.append(shift(image.reshape(28, 28), [0,1], cval=0).reshape(784))\n",
        "        y_expanded.append(label)\n",
        "        X_expanded.append(shift(image.reshape(28, 28), [0,-1], cval=0).reshape(784))\n",
        "        y_expanded.append(label)\n",
        "\n",
        "    X_expanded, y_expanded = np.array(X_expanded), np.array(y_expanded)\n",
        "\n",
        "    randInd = np.random.permutation(len(X_expanded))\n",
        "    X_expanded = X_expanded[randInd]\n",
        "    y_expanded = y_expanded[randInd]\n",
        "\n",
        "    return X_expanded, y_expanded"
      ],
      "metadata": {
        "id": "C-AFYPyByEdi"
      },
      "execution_count": null,
      "outputs": []
    },
    {
      "cell_type": "markdown",
      "source": [
        "Now I test the new shift function to see if the randomization was working"
      ],
      "metadata": {
        "id": "aUYmVzFHR909"
      }
    },
    {
      "cell_type": "code",
      "source": [
        "X_temp, y_temp = np.array([X[0],X[1]]), np.array([y[0],y[1]])\n",
        "#X_temp.shape\n",
        "X_temp, y_temp = ShiftExpandNShuffle(X_temp, y_temp)\n",
        "\n",
        "\n",
        "plot_digits(X_temp, images_per_row=10)\n",
        "plt.show()"
      ],
      "metadata": {
        "colab": {
          "base_uri": "https://localhost:8080/",
          "height": 64
        },
        "id": "l59qfSnhI6ea",
        "outputId": "d134a979-e32c-47dc-9c50-464671628c0a"
      },
      "execution_count": null,
      "outputs": [
        {
          "output_type": "display_data",
          "data": {
            "text/plain": [
              "<Figure size 432x288 with 1 Axes>"
            ],
            "image/png": "[encoded data removed]"
          },
          "metadata": {
            "needs_background": "light"
          }
        }
      ]
    },
    {
      "cell_type": "markdown",
      "source": [
        "Splitting the train/test sets, and using the shift function to augment the train dataset"
      ],
      "metadata": {
        "id": "L_1p8YPXS_dH"
      }
    },
    {
      "cell_type": "code",
      "source": [
        "X_train, X_test, y_train, y_test = train_test_split(X, y, test_size=1000, random_state=42)\n",
        "\n",
        "X_train, y_train = ShiftExpandNShuffle(X_train, y_train)\n",
        "\n",
        "X_train.shape, y_train.shape"
      ],
      "metadata": {
        "colab": {
          "base_uri": "https://localhost:8080/"
        },
        "id": "NIMKh376Ctn2",
        "outputId": "7fb985bb-74bc-4c98-d83c-e3106acb3407"
      },
      "execution_count": null,
      "outputs": [
        {
          "output_type": "execute_result",
          "data": {
            "text/plain": [
              "((345000, 784), (345000,))"
            ]
          },
          "metadata": {},
          "execution_count": 11
        }
      ]
    },
    {
      "cell_type": "markdown",
      "source": [
        "Creating the model based on the optimum hyperparameters that we discovered in part one and trainging it on the augmented dataset."
      ],
      "metadata": {
        "id": "WZihYnWMTGFE"
      }
    },
    {
      "cell_type": "code",
      "source": [
        "FinalModel = KNeighborsClassifier(n_neighbors=4, weights='distance')\n",
        "FinalModel.fit(X_train, y_train)"
      ],
      "metadata": {
        "colab": {
          "base_uri": "https://localhost:8080/"
        },
        "id": "3kAHaeEwDHEm",
        "outputId": "a566bc9b-6213-44fc-889e-e6703b32baa7"
      },
      "execution_count": null,
      "outputs": [
        {
          "output_type": "execute_result",
          "data": {
            "text/plain": [
              "KNeighborsClassifier(n_neighbors=4, weights='distance')"
            ]
          },
          "metadata": {},
          "execution_count": 12
        }
      ]
    },
    {
      "cell_type": "markdown",
      "source": [
        "Testing the model on the test data."
      ],
      "metadata": {
        "id": "kEubJIbYTStm"
      }
    },
    {
      "cell_type": "code",
      "source": [
        "y_prediction = FinalModel.predict(X_test)\n",
        "\n",
        "accuracy_score(y_test, y_prediction)"
      ],
      "metadata": {
        "colab": {
          "base_uri": "https://localhost:8080/"
        },
        "id": "gQpO3B5yHOEm",
        "outputId": "9e21ff5c-3b64-4c50-8ee5-ce0fa725d833"
      },
      "execution_count": null,
      "outputs": [
        {
          "output_type": "execute_result",
          "data": {
            "text/plain": [
              "0.991"
            ]
          },
          "metadata": {},
          "execution_count": 13
        }
      ]
    },
    {
      "cell_type": "markdown",
      "source": [
        "There is a whole 0.8% improvement using the data augmentation method."
      ],
      "metadata": {
        "id": "tgPAwU84Syfy"
      }
    }
  ],
  "metadata": {
    "kernelspec": {
      "display_name": "Python 3",
      "language": "python",
      "name": "python3"
    },
    "language_info": {
      "codemirror_mode": {
        "name": "ipython",
        "version": 3
      },
      "file_extension": ".py",
      "mimetype": "text/x-python",
      "name": "python",
      "nbconvert_exporter": "python",
      "pygments_lexer": "ipython3",
      "version": "3.6.7"
    },
    "latex_envs": {
      "LaTeX_envs_menu_present": true,
      "autoclose": false,
      "autocomplete": true,
      "bibliofile": "biblio.bib",
      "cite_by": "apalike",
      "current_citInitial": 1,
      "eqLabelWithNumbers": true,
      "eqNumInitial": 1,
      "hotkeys": {
        "equation": "Ctrl-E",
        "itemize": "Ctrl-I"
      },
      "labels_anchors": false,
      "latex_user_defs": false,
      "report_style_numbering": false,
      "user_envs_cfg": false
    },
    "toc": {
      "base_numbering": 1,
      "nav_menu": {},
      "number_sections": true,
      "sideBar": true,
      "skip_h1_title": false,
      "title_cell": "Table of Contents",
      "title_sidebar": "Contents",
      "toc_cell": false,
      "toc_position": {},
      "toc_section_display": true,
      "toc_window_display": false
    },
    "varInspector": {
      "cols": {
        "lenName": 16,
        "lenType": 16,
        "lenVar": 40
      },
      "kernels_config": {
        "python": {
          "delete_cmd_postfix": "",
          "delete_cmd_prefix": "del ",
          "library": "var_list.py",
          "varRefreshCmd": "print(var_dic_list())"
        },
        "r": {
          "delete_cmd_postfix": ") ",
          "delete_cmd_prefix": "rm(",
          "library": "var_list.r",
          "varRefreshCmd": "cat(var_dic_list()) "
        }
      },
      "types_to_exclude": [
        "module",
        "function",
        "builtin_function_or_method",
        "instance",
        "_Feature"
      ],
      "window_display": false
    },
    "colab": {
      "provenance": []
    }
  },
  "nbformat": 4,
  "nbformat_minor": 0
}